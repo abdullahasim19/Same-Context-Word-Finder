{
 "cells": [
  {
   "cell_type": "markdown",
   "id": "f4015c6d",
   "metadata": {},
   "source": [
    "# Scraping from BBC Urdu"
   ]
  },
  {
   "cell_type": "markdown",
   "id": "8a7fd1d3",
   "metadata": {},
   "source": [
    "## Importing the libraries"
   ]
  },
  {
   "cell_type": "code",
   "execution_count": 1,
   "id": "ef4f461a",
   "metadata": {},
   "outputs": [],
   "source": [
    "from bs4 import BeautifulSoup\n",
    "import lxml\n",
    "import requests\n",
    "import pandas as pd\n",
    "import numpy as np\n",
    "import pickle"
   ]
  },
  {
   "cell_type": "code",
   "execution_count": 2,
   "id": "116e7d8e",
   "metadata": {},
   "outputs": [],
   "source": [
    "url='https://www.bbc.com/urdu'\n",
    "r=requests.get(url)\n",
    "htmlc=r.content"
   ]
  },
  {
   "cell_type": "code",
   "execution_count": 3,
   "id": "37969cdc",
   "metadata": {},
   "outputs": [],
   "source": [
    "soup=BeautifulSoup(htmlc,'html.parser' )\n",
    "\n",
    "nav_bars=soup.find_all('li', class_='bbc-1v9wiw8 e1lim4kn2')\n",
    "\n",
    "links_list=['a','a','a','a','a','a','a','a']"
   ]
  },
  {
   "cell_type": "code",
   "execution_count": 4,
   "id": "438a3098",
   "metadata": {},
   "outputs": [],
   "source": [
    "index=0\n",
    "for i in nav_bars:\n",
    "    t=i.find('a')\n",
    "    l='https://www.bbc.com' + t.get('href')\n",
    "    links_list[index]=l\n",
    "    index+=1"
   ]
  },
  {
   "cell_type": "code",
   "execution_count": 5,
   "id": "72845c8b",
   "metadata": {},
   "outputs": [],
   "source": [
    "links_list.remove(\"https://www.bbc.com/urdu\")\n",
    "links_list.remove(\"https://www.bbc.com/urdu/media/video\")\n",
    "\n",
    "newlinks=[] #declare list to store the links of all (600) pages "
   ]
  },
  {
   "cell_type": "markdown",
   "id": "c9085de0",
   "metadata": {},
   "source": [
    "## Generating the links"
   ]
  },
  {
   "cell_type": "code",
   "execution_count": 6,
   "id": "7d9055c6",
   "metadata": {},
   "outputs": [],
   "source": [
    "#populate new list with links \n",
    "for i in links_list:\n",
    "    newlinks.append(i)\n",
    "    for l in range(99):\n",
    "        ab=i + '/page/' + str(l+2)\n",
    "        newlinks.append(ab)"
   ]
  },
  {
   "cell_type": "markdown",
   "id": "9a2bbf3d",
   "metadata": {},
   "source": [
    "## Scraping data from each link"
   ]
  },
  {
   "cell_type": "code",
   "execution_count": 8,
   "id": "87f99f6e",
   "metadata": {},
   "outputs": [
    {
     "name": "stdout",
     "output_type": "stream",
     "text": [
      "1\n",
      "2\n",
      "3\n",
      "4\n",
      "5\n"
     ]
    }
   ],
   "source": [
    "bbc={}\n",
    "indexe=0\n",
    "for link in newlinks:\n",
    "    indexe+=1\n",
    "    print(indexe)\n",
    "    source = requests.get(link).text\n",
    "    soup = BeautifulSoup(source, 'lxml')\n",
    "    articles = soup.find_all('li', class_='lx-stream__post-container')\n",
    "\n",
    "    for article_ in articles:\n",
    "       \n",
    "        article_name=article_.article.header.div.h3.a.span.text\n",
    "        \n",
    "        try:\n",
    "            more_info = article_.find('span', class_='lx-stream-related-story--cta-text').text\n",
    "            more_info_link = article_.find('a', class_='qa-story-cta-link')['href']\n",
    "            more_info_link='https://www.bbc.com/'+more_info_link\n",
    "            source1 = requests.get(more_info_link).text\n",
    "            soup1=BeautifulSoup(source1, 'lxml')\n",
    "            inner_data = soup1.find_all('div', class_='bbc-4wucq3 e57qer20')\n",
    "            p=''\n",
    "            for data_ in inner_data:\n",
    "                try:\n",
    "                    p += data_.find('p').text\n",
    "                    \n",
    "                except Exception as e:\n",
    "                    ay=2\n",
    "        except Exception as e:\n",
    "            ay=2\n",
    "        bbc.update({article_name:p})\n",
    "        f = open('bbc_urdu.pkl', 'wb')   # 'wb' instead 'w' for binary file\n",
    "        pickle.dump(bbc, f, -1)       # -1 specifies highest binary protocol\n",
    "        f.close()"
   ]
  },
  {
   "cell_type": "code",
   "execution_count": null,
   "id": "63b5bd0f",
   "metadata": {},
   "outputs": [],
   "source": []
  }
 ],
 "metadata": {
  "kernelspec": {
   "display_name": "Python 3 (ipykernel)",
   "language": "python",
   "name": "python3"
  },
  "language_info": {
   "codemirror_mode": {
    "name": "ipython",
    "version": 3
   },
   "file_extension": ".py",
   "mimetype": "text/x-python",
   "name": "python",
   "nbconvert_exporter": "python",
   "pygments_lexer": "ipython3",
   "version": "3.9.7"
  }
 },
 "nbformat": 4,
 "nbformat_minor": 5
}
